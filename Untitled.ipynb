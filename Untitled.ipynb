{
 "cells": [
  {
   "cell_type": "code",
   "execution_count": 1,
   "id": "454ff79d-aeba-4ff4-a512-8bcadaa03592",
   "metadata": {},
   "outputs": [
    {
     "name": "stderr",
     "output_type": "stream",
     "text": [
      "Failed to create /home/jovyan/.cache/mesa_shader_cache for shader cache (Function not implemented)---disabling.\n"
     ]
    },
    {
     "data": {
      "application/vnd.jupyter.widget-view+json": {
       "model_id": "61b808be5656460ea302e142622ebb4e",
       "version_major": 2,
       "version_minor": 0
      },
      "text/plain": [
       "Widget(value=\"<iframe src='/proxy/39191/index.html?ui=P_0x7f33d4d1f310_0&reconnect=auto' style='width: 800px; …"
      ]
     },
     "metadata": {},
     "output_type": "display_data"
    },
    {
     "data": {
      "text/plain": [
       "pyvista_ndarray([[-10.        , -10.        ,   0.99999492],\n",
       "                 [-10.        ,  -9.75      ,   0.98516356],\n",
       "                 [-10.        ,  -9.5       ,   0.9407926 ],\n",
       "                 ...,\n",
       "                 [  9.75      ,   9.25      ,   0.76531256],\n",
       "                 [  9.75      ,   9.5       ,   0.8648242 ],\n",
       "                 [  9.75      ,   9.75      ,   0.93924668]])"
      ]
     },
     "execution_count": 1,
     "metadata": {},
     "output_type": "execute_result"
    },
    {
     "name": "stderr",
     "output_type": "stream",
     "text": [
      "WARNING:aiohttp.websocket:Client protocols [''] don’t overlap server-known ones ()\n"
     ]
    }
   ],
   "source": [
    "from pyvista import demos\n",
    ">>> demos.plot_wave()"
   ]
  },
  {
   "cell_type": "code",
   "execution_count": null,
   "id": "8e87da50-9ad0-4a8a-91e3-d8a47faaa182",
   "metadata": {},
   "outputs": [],
   "source": []
  }
 ],
 "metadata": {
  "kernelspec": {
   "display_name": "Python 3 (ipykernel)",
   "language": "python",
   "name": "python3"
  },
  "language_info": {
   "codemirror_mode": {
    "name": "ipython",
    "version": 3
   },
   "file_extension": ".py",
   "mimetype": "text/x-python",
   "name": "python",
   "nbconvert_exporter": "python",
   "pygments_lexer": "ipython3",
   "version": "3.9.7"
  }
 },
 "nbformat": 4,
 "nbformat_minor": 5
}
